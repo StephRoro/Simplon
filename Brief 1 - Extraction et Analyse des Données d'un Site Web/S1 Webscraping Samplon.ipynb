{
 "cells": [
  {
   "cell_type": "markdown",
   "id": "5516dc04",
   "metadata": {},
   "source": [
    "# Exercice 1"
   ]
  },
  {
   "cell_type": "markdown",
   "id": "d781c2f3",
   "metadata": {},
   "source": [
    "\n",
    "Mise en Situation Professionnelle : Extraction et Analyse des Données d'un Site Web\n",
    "\n",
    "Contexte :\n",
    "\n",
    "Vous travaillez en tant que Data Analyst pour une entreprise spécialisée dans la vente de livres en ligne. Votre responsable vous a demandé d'analyser le marché en ligne des livres en scrappant les données de plusieurs sites web pour identifier les tendances de prix et de notation des livres. Pour cette tâche, vous décidez d'utiliser le site fictif \"Books to Scrape\" (http://books.toscrape.com/) pour extraire les informations nécessaires.\n",
    "\n",
    "Votre objectif est d'automatiser le processus de collecte des données en extrayant les titres, prix, et notes des livres disponibles sur plusieurs pages du site. Une fois les données collectées, vous devez les analyser pour produire des graphiques qui montreront la distribution des prix et des notations des livres.\n",
    "\n",
    "Étapes de l'Exercice :\n",
    "\n",
    "    Extraction des Données de la Page Principale :\n",
    "        Utilisez le module requests pour envoyer une requête HTTP au site \"Books to Scrape\" et récupérez le contenu HTML de la page principale.\n",
    "        Parsez le contenu HTML avec BeautifulSoup pour identifier les éléments contenant les informations sur les livres (titres, prix, notation).\n",
    "        Stockez ces informations dans un dictionnaire avec des listes pour chaque attribut (titre, prix, notation).\n",
    "\n",
    "    Analyse des Données Extraites :\n",
    "        Convertissez le dictionnaire en un DataFrame avec pandas pour faciliter l'analyse.\n",
    "        Créez un histogramme de la distribution des prix des livres.\n",
    "        Produisez un graphique en barres pour visualiser le nombre de livres par notation (étoiles).\n",
    "\n",
    "    Scraping de Plusieurs Pages (Exercice Annexe) :\n",
    "        Étendez votre code pour scraper plusieurs pages du site (par exemple, 50 pages).\n",
    "        Compilez les informations de toutes les pages dans un seul DataFrame.\n",
    "        Répétez les analyses précédentes (histogramme des prix et graphique des notations) sur l'ensemble des données collectées.\n",
    "\n",
    "    Simplification de l'Exercice :\n",
    "        Étape de Base : Vous pouvez commencer par scraper uniquement la première page du site et analyser un petit échantillon de livres.\n",
    "        Étape Avancée : Scraper plusieurs pages et comparer les résultats avec ceux de la première page pour voir comment les tendances changent avec l'augmentation du volume de données.\n",
    "\n",
    "Livrables :\n",
    "\n",
    "    Un script Python fonctionnel qui extrait les données du site \"Books to Scrape\".\n",
    "    Un DataFrame contenant les titres, prix, et notations des livres.\n",
    "    Des graphiques montrant la distribution des prix et des notations des livres.\n",
    "    Un rapport succinct résumant les conclusions basées sur les analyses des données collectées.\n"
   ]
  },
  {
   "cell_type": "markdown",
   "id": "792cac35",
   "metadata": {},
   "source": [
    "## Solution beautifull soup"
   ]
  },
  {
   "cell_type": "markdown",
   "id": "608e09d4",
   "metadata": {},
   "source": []
  }
 ],
 "metadata": {
  "kernelspec": {
   "display_name": "Python 3 (ipykernel)",
   "language": "python",
   "name": "python3"
  },
  "language_info": {
   "codemirror_mode": {
    "name": "ipython",
    "version": 3
   },
   "file_extension": ".py",
   "mimetype": "text/x-python",
   "name": "python",
   "nbconvert_exporter": "python",
   "pygments_lexer": "ipython3",
   "version": "3.10.12"
  }
 },
 "nbformat": 4,
 "nbformat_minor": 5
}

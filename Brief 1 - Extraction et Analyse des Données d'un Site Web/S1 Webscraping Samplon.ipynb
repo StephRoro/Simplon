{
 "cells": [
  {
   "cell_type": "markdown",
   "id": "5516dc04",
   "metadata": {},
   "source": [
    "# Exercice 1"
   ]
  },
  {
   "cell_type": "markdown",
   "id": "d781c2f3",
   "metadata": {},
   "source": [
    "\n",
    "Mise en Situation Professionnelle : Extraction et Analyse des Données d'un Site Web\n",
    "\n",
    "Contexte :\n",
    "\n",
    "Vous travaillez en tant que Data Analyst pour une entreprise spécialisée dans la vente de livres en ligne. Votre responsable vous a demandé d'analyser le marché en ligne des livres en scrappant les données de plusieurs sites web pour identifier les tendances de prix et de notation des livres. Pour cette tâche, vous décidez d'utiliser le site fictif \"Books to Scrape\" (http://books.toscrape.com/) pour extraire les informations nécessaires.\n",
    "\n",
    "Votre objectif est d'automatiser le processus de collecte des données en extrayant les titres, prix, et notes des livres disponibles sur plusieurs pages du site. Une fois les données collectées, vous devez les analyser pour produire des graphiques qui montreront la distribution des prix et des notations des livres.\n",
    "\n",
    "Étapes de l'Exercice :\n",
    "\n",
    "    Extraction des Données de la Page Principale :\n",
    "        Utilisez le module requests pour envoyer une requête HTTP au site \"Books to Scrape\" et récupérez le contenu HTML de la page principale.\n",
    "        Parsez le contenu HTML avec BeautifulSoup pour identifier les éléments contenant les informations sur les livres (titres, prix, notation).\n",
    "        Stockez ces informations dans un dictionnaire avec des listes pour chaque attribut (titre, prix, notation).\n",
    "\n",
    "    Analyse des Données Extraites :\n",
    "        Convertissez le dictionnaire en un DataFrame avec pandas pour faciliter l'analyse.\n",
    "        Créez un histogramme de la distribution des prix des livres.\n",
    "        Produisez un graphique en barres pour visualiser le nombre de livres par notation (étoiles).\n",
    "\n",
    "    Scraping de Plusieurs Pages (Exercice Annexe) :\n",
    "        Étendez votre code pour scraper plusieurs pages du site (par exemple, 50 pages).\n",
    "        Compilez les informations de toutes les pages dans un seul DataFrame.\n",
    "        Répétez les analyses précédentes (histogramme des prix et graphique des notations) sur l'ensemble des données collectées.\n",
    "\n",
    "    Simplification de l'Exercice :\n",
    "        Étape de Base : Vous pouvez commencer par scraper uniquement la première page du site et analyser un petit échantillon de livres.\n",
    "        Étape Avancée : Scraper plusieurs pages et comparer les résultats avec ceux de la première page pour voir comment les tendances changent avec l'augmentation du volume de données.\n",
    "\n",
    "Livrables :\n",
    "\n",
    "    Un script Python fonctionnel qui extrait les données du site \"Books to Scrape\".\n",
    "    Un DataFrame contenant les titres, prix, et notations des livres.\n",
    "    Des graphiques montrant la distribution des prix et des notations des livres.\n",
    "    Un rapport succinct résumant les conclusions basées sur les analyses des données collectées.\n"
   ]
  },
  {
   "cell_type": "markdown",
   "id": "792cac35",
   "metadata": {},
   "source": [
    "## Solution beautifull soup"
   ]
  },
  {
   "cell_type": "code",
   "execution_count": 1,
   "id": "24c940cb",
   "metadata": {},
   "outputs": [],
   "source": [
    "from bs4 import BeautifulSoup\n",
    "import pandas as pd\n",
    "import requests"
   ]
  },
  {
   "cell_type": "code",
   "execution_count": 2,
   "id": "5904653a",
   "metadata": {},
   "outputs": [],
   "source": [
    "import requests\n",
    "\n",
    "url = \"http://books.toscrape.com/\"\n",
    "response = requests.get(url)\n",
    "soup = BeautifulSoup(response.content, \"html.parser\")\n"
   ]
  },
  {
   "cell_type": "code",
   "execution_count": 3,
   "id": "7073be27",
   "metadata": {},
   "outputs": [],
   "source": [
    "books_html = soup.find_all(\"article\", class_=\"product_pod\")\n"
   ]
  },
  {
   "cell_type": "code",
   "execution_count": 4,
   "id": "2382153b",
   "metadata": {},
   "outputs": [
    {
     "data": {
      "text/plain": [
       "<article class=\"product_pod\">\n",
       "<div class=\"image_container\">\n",
       "<a href=\"catalogue/tipping-the-velvet_999/index.html\"><img alt=\"Tipping the Velvet\" class=\"thumbnail\" src=\"media/cache/26/0c/260c6ae16bce31c8f8c95daddd9f4a1c.jpg\"/></a>\n",
       "</div>\n",
       "<p class=\"star-rating One\">\n",
       "<i class=\"icon-star\"></i>\n",
       "<i class=\"icon-star\"></i>\n",
       "<i class=\"icon-star\"></i>\n",
       "<i class=\"icon-star\"></i>\n",
       "<i class=\"icon-star\"></i>\n",
       "</p>\n",
       "<h3><a href=\"catalogue/tipping-the-velvet_999/index.html\" title=\"Tipping the Velvet\">Tipping the Velvet</a></h3>\n",
       "<div class=\"product_price\">\n",
       "<p class=\"price_color\">£53.74</p>\n",
       "<p class=\"instock availability\">\n",
       "<i class=\"icon-ok\"></i>\n",
       "    \n",
       "        In stock\n",
       "    \n",
       "</p>\n",
       "<form>\n",
       "<button class=\"btn btn-primary btn-block\" data-loading-text=\"Adding...\" type=\"submit\">Add to basket</button>\n",
       "</form>\n",
       "</div>\n",
       "</article>"
      ]
     },
     "execution_count": 4,
     "metadata": {},
     "output_type": "execute_result"
    }
   ],
   "source": [
    "books_html[1]"
   ]
  },
  {
   "cell_type": "code",
   "execution_count": 5,
   "id": "4013d1c6",
   "metadata": {},
   "outputs": [
    {
     "data": {
      "text/plain": [
       "<a href=\"catalogue/a-light-in-the-attic_1000/index.html\" title=\"A Light in the Attic\">A Light in the ...</a>"
      ]
     },
     "execution_count": 5,
     "metadata": {},
     "output_type": "execute_result"
    }
   ],
   "source": [
    "books_html[0].find(\"h3\").find(\"a\")"
   ]
  },
  {
   "cell_type": "code",
   "execution_count": 6,
   "id": "2e4e0bab",
   "metadata": {},
   "outputs": [
    {
     "data": {
      "text/plain": [
       "{'href': 'catalogue/a-light-in-the-attic_1000/index.html',\n",
       " 'title': 'A Light in the Attic'}"
      ]
     },
     "execution_count": 6,
     "metadata": {},
     "output_type": "execute_result"
    }
   ],
   "source": [
    "books_html[0].find(\"h3\").find(\"a\").attrs"
   ]
  },
  {
   "cell_type": "code",
   "execution_count": 7,
   "id": "6c4a1ec7",
   "metadata": {},
   "outputs": [
    {
     "data": {
      "text/plain": [
       "'A Light in the Attic'"
      ]
     },
     "execution_count": 7,
     "metadata": {},
     "output_type": "execute_result"
    }
   ],
   "source": [
    "book_title = books_html[0].find(\"h3\").find(\"a\").attrs[\"title\"]\n",
    "book_title"
   ]
  },
  {
   "cell_type": "code",
   "execution_count": 8,
   "id": "5fa3a0ec",
   "metadata": {},
   "outputs": [
    {
     "data": {
      "text/plain": [
       "<p class=\"star-rating Three\">\n",
       "<i class=\"icon-star\"></i>\n",
       "<i class=\"icon-star\"></i>\n",
       "<i class=\"icon-star\"></i>\n",
       "<i class=\"icon-star\"></i>\n",
       "<i class=\"icon-star\"></i>\n",
       "</p>"
      ]
     },
     "execution_count": 8,
     "metadata": {},
     "output_type": "execute_result"
    }
   ],
   "source": [
    "book_stars_html = books_html[0].find(\"p\", class_=\"star-rating\")\n",
    "book_stars_html"
   ]
  },
  {
   "cell_type": "code",
   "execution_count": 9,
   "id": "b96ac822",
   "metadata": {},
   "outputs": [
    {
     "data": {
      "text/plain": [
       "['star-rating', 'Three']"
      ]
     },
     "execution_count": 9,
     "metadata": {},
     "output_type": "execute_result"
    }
   ],
   "source": [
    "book_stars_html.attrs['class']"
   ]
  },
  {
   "cell_type": "code",
   "execution_count": 10,
   "id": "bafce170",
   "metadata": {},
   "outputs": [
    {
     "data": {
      "text/plain": [
       "3"
      ]
     },
     "execution_count": 10,
     "metadata": {},
     "output_type": "execute_result"
    }
   ],
   "source": [
    "def parse_rating(rating_classes):\n",
    "    if 'One' in rating_classes:\n",
    "        return 1\n",
    "    elif 'Two' in rating_classes:\n",
    "        return 2\n",
    "    elif 'Three' in rating_classes:\n",
    "        return 3\n",
    "    elif 'Four' in rating_classes:\n",
    "        return 4\n",
    "    elif 'Five' in rating_classes:\n",
    "        return 5\n",
    "    else:\n",
    "        return 0\n",
    "    \n",
    "book_rating = parse_rating(books_html[0].find(\"p\", class_=\"star-rating\").attrs['class'])\n",
    "book_rating"
   ]
  },
  {
   "cell_type": "code",
   "execution_count": 11,
   "id": "776c1a39",
   "metadata": {},
   "outputs": [
    {
     "data": {
      "text/plain": [
       "<p class=\"price_color\">£51.77</p>"
      ]
     },
     "execution_count": 11,
     "metadata": {},
     "output_type": "execute_result"
    }
   ],
   "source": [
    "price = books_html[0].find(\"p\", class_=\"price_color\")\n",
    "price"
   ]
  },
  {
   "cell_type": "code",
   "execution_count": 12,
   "id": "7c34db75",
   "metadata": {},
   "outputs": [
    {
     "data": {
      "text/plain": [
       "['price_color']"
      ]
     },
     "execution_count": 12,
     "metadata": {},
     "output_type": "execute_result"
    }
   ],
   "source": [
    "price.attrs['class']"
   ]
  },
  {
   "cell_type": "code",
   "execution_count": 13,
   "id": "633ede3c",
   "metadata": {},
   "outputs": [],
   "source": [
    "books_dict = { 'Title': [], 'Price': [], 'Rating': [] }\n",
    "for book in books_html:\n",
    "    title = book.find(\"h3\").find(\"a\").attrs[\"title\"]\n",
    "    price = float(book.find(\"p\", class_=\"price_color\").text[1:])\n",
    "    rating = parse_rating(book.find(\"p\", class_=\"star-rating\").attrs['class'])\n",
    "    books_dict[\"Title\"].append(title)\n",
    "    books_dict[\"Price\"].append(price)\n",
    "    books_dict[\"Rating\"].append(rating)"
   ]
  },
  {
   "cell_type": "code",
   "execution_count": 14,
   "id": "27f7e2b9",
   "metadata": {},
   "outputs": [
    {
     "data": {
      "text/plain": [
       "{'Title': ['A Light in the Attic',\n",
       "  'Tipping the Velvet',\n",
       "  'Soumission',\n",
       "  'Sharp Objects',\n",
       "  'Sapiens: A Brief History of Humankind',\n",
       "  'The Requiem Red',\n",
       "  'The Dirty Little Secrets of Getting Your Dream Job',\n",
       "  'The Coming Woman: A Novel Based on the Life of the Infamous Feminist, Victoria Woodhull',\n",
       "  'The Boys in the Boat: Nine Americans and Their Epic Quest for Gold at the 1936 Berlin Olympics',\n",
       "  'The Black Maria',\n",
       "  'Starving Hearts (Triangular Trade Trilogy, #1)',\n",
       "  \"Shakespeare's Sonnets\",\n",
       "  'Set Me Free',\n",
       "  \"Scott Pilgrim's Precious Little Life (Scott Pilgrim #1)\",\n",
       "  'Rip it Up and Start Again',\n",
       "  'Our Band Could Be Your Life: Scenes from the American Indie Underground, 1981-1991',\n",
       "  'Olio',\n",
       "  'Mesaerion: The Best Science Fiction Stories 1800-1849',\n",
       "  'Libertarianism for Beginners',\n",
       "  \"It's Only the Himalayas\"],\n",
       " 'Price': [51.77,\n",
       "  53.74,\n",
       "  50.1,\n",
       "  47.82,\n",
       "  54.23,\n",
       "  22.65,\n",
       "  33.34,\n",
       "  17.93,\n",
       "  22.6,\n",
       "  52.15,\n",
       "  13.99,\n",
       "  20.66,\n",
       "  17.46,\n",
       "  52.29,\n",
       "  35.02,\n",
       "  57.25,\n",
       "  23.88,\n",
       "  37.59,\n",
       "  51.33,\n",
       "  45.17],\n",
       " 'Rating': [3, 1, 1, 4, 5, 1, 4, 3, 4, 1, 2, 4, 5, 5, 5, 3, 1, 1, 2, 2]}"
      ]
     },
     "execution_count": 14,
     "metadata": {},
     "output_type": "execute_result"
    }
   ],
   "source": [
    "books_dict"
   ]
  },
  {
   "cell_type": "code",
   "execution_count": 15,
   "id": "24c85f46",
   "metadata": {},
   "outputs": [
    {
     "data": {
      "text/html": [
       "<div>\n",
       "<style scoped>\n",
       "    .dataframe tbody tr th:only-of-type {\n",
       "        vertical-align: middle;\n",
       "    }\n",
       "\n",
       "    .dataframe tbody tr th {\n",
       "        vertical-align: top;\n",
       "    }\n",
       "\n",
       "    .dataframe thead th {\n",
       "        text-align: right;\n",
       "    }\n",
       "</style>\n",
       "<table border=\"1\" class=\"dataframe\">\n",
       "  <thead>\n",
       "    <tr style=\"text-align: right;\">\n",
       "      <th></th>\n",
       "      <th>Title</th>\n",
       "      <th>Price</th>\n",
       "      <th>Rating</th>\n",
       "    </tr>\n",
       "  </thead>\n",
       "  <tbody>\n",
       "    <tr>\n",
       "      <th>0</th>\n",
       "      <td>A Light in the Attic</td>\n",
       "      <td>51.77</td>\n",
       "      <td>3</td>\n",
       "    </tr>\n",
       "    <tr>\n",
       "      <th>1</th>\n",
       "      <td>Tipping the Velvet</td>\n",
       "      <td>53.74</td>\n",
       "      <td>1</td>\n",
       "    </tr>\n",
       "    <tr>\n",
       "      <th>2</th>\n",
       "      <td>Soumission</td>\n",
       "      <td>50.10</td>\n",
       "      <td>1</td>\n",
       "    </tr>\n",
       "    <tr>\n",
       "      <th>3</th>\n",
       "      <td>Sharp Objects</td>\n",
       "      <td>47.82</td>\n",
       "      <td>4</td>\n",
       "    </tr>\n",
       "    <tr>\n",
       "      <th>4</th>\n",
       "      <td>Sapiens: A Brief History of Humankind</td>\n",
       "      <td>54.23</td>\n",
       "      <td>5</td>\n",
       "    </tr>\n",
       "    <tr>\n",
       "      <th>5</th>\n",
       "      <td>The Requiem Red</td>\n",
       "      <td>22.65</td>\n",
       "      <td>1</td>\n",
       "    </tr>\n",
       "    <tr>\n",
       "      <th>6</th>\n",
       "      <td>The Dirty Little Secrets of Getting Your Dream...</td>\n",
       "      <td>33.34</td>\n",
       "      <td>4</td>\n",
       "    </tr>\n",
       "    <tr>\n",
       "      <th>7</th>\n",
       "      <td>The Coming Woman: A Novel Based on the Life of...</td>\n",
       "      <td>17.93</td>\n",
       "      <td>3</td>\n",
       "    </tr>\n",
       "    <tr>\n",
       "      <th>8</th>\n",
       "      <td>The Boys in the Boat: Nine Americans and Their...</td>\n",
       "      <td>22.60</td>\n",
       "      <td>4</td>\n",
       "    </tr>\n",
       "    <tr>\n",
       "      <th>9</th>\n",
       "      <td>The Black Maria</td>\n",
       "      <td>52.15</td>\n",
       "      <td>1</td>\n",
       "    </tr>\n",
       "    <tr>\n",
       "      <th>10</th>\n",
       "      <td>Starving Hearts (Triangular Trade Trilogy, #1)</td>\n",
       "      <td>13.99</td>\n",
       "      <td>2</td>\n",
       "    </tr>\n",
       "    <tr>\n",
       "      <th>11</th>\n",
       "      <td>Shakespeare's Sonnets</td>\n",
       "      <td>20.66</td>\n",
       "      <td>4</td>\n",
       "    </tr>\n",
       "    <tr>\n",
       "      <th>12</th>\n",
       "      <td>Set Me Free</td>\n",
       "      <td>17.46</td>\n",
       "      <td>5</td>\n",
       "    </tr>\n",
       "    <tr>\n",
       "      <th>13</th>\n",
       "      <td>Scott Pilgrim's Precious Little Life (Scott Pi...</td>\n",
       "      <td>52.29</td>\n",
       "      <td>5</td>\n",
       "    </tr>\n",
       "    <tr>\n",
       "      <th>14</th>\n",
       "      <td>Rip it Up and Start Again</td>\n",
       "      <td>35.02</td>\n",
       "      <td>5</td>\n",
       "    </tr>\n",
       "    <tr>\n",
       "      <th>15</th>\n",
       "      <td>Our Band Could Be Your Life: Scenes from the A...</td>\n",
       "      <td>57.25</td>\n",
       "      <td>3</td>\n",
       "    </tr>\n",
       "    <tr>\n",
       "      <th>16</th>\n",
       "      <td>Olio</td>\n",
       "      <td>23.88</td>\n",
       "      <td>1</td>\n",
       "    </tr>\n",
       "    <tr>\n",
       "      <th>17</th>\n",
       "      <td>Mesaerion: The Best Science Fiction Stories 18...</td>\n",
       "      <td>37.59</td>\n",
       "      <td>1</td>\n",
       "    </tr>\n",
       "    <tr>\n",
       "      <th>18</th>\n",
       "      <td>Libertarianism for Beginners</td>\n",
       "      <td>51.33</td>\n",
       "      <td>2</td>\n",
       "    </tr>\n",
       "    <tr>\n",
       "      <th>19</th>\n",
       "      <td>It's Only the Himalayas</td>\n",
       "      <td>45.17</td>\n",
       "      <td>2</td>\n",
       "    </tr>\n",
       "  </tbody>\n",
       "</table>\n",
       "</div>"
      ],
      "text/plain": [
       "                                                Title  Price  Rating\n",
       "0                                A Light in the Attic  51.77       3\n",
       "1                                  Tipping the Velvet  53.74       1\n",
       "2                                          Soumission  50.10       1\n",
       "3                                       Sharp Objects  47.82       4\n",
       "4               Sapiens: A Brief History of Humankind  54.23       5\n",
       "5                                     The Requiem Red  22.65       1\n",
       "6   The Dirty Little Secrets of Getting Your Dream...  33.34       4\n",
       "7   The Coming Woman: A Novel Based on the Life of...  17.93       3\n",
       "8   The Boys in the Boat: Nine Americans and Their...  22.60       4\n",
       "9                                     The Black Maria  52.15       1\n",
       "10     Starving Hearts (Triangular Trade Trilogy, #1)  13.99       2\n",
       "11                              Shakespeare's Sonnets  20.66       4\n",
       "12                                        Set Me Free  17.46       5\n",
       "13  Scott Pilgrim's Precious Little Life (Scott Pi...  52.29       5\n",
       "14                          Rip it Up and Start Again  35.02       5\n",
       "15  Our Band Could Be Your Life: Scenes from the A...  57.25       3\n",
       "16                                               Olio  23.88       1\n",
       "17  Mesaerion: The Best Science Fiction Stories 18...  37.59       1\n",
       "18                       Libertarianism for Beginners  51.33       2\n",
       "19                            It's Only the Himalayas  45.17       2"
      ]
     },
     "execution_count": 15,
     "metadata": {},
     "output_type": "execute_result"
    }
   ],
   "source": [
    "books_df = pd.DataFrame.from_dict(books_dict)\n",
    "books_df"
   ]
  },
  {
   "cell_type": "code",
   "execution_count": 16,
   "id": "2685eda1",
   "metadata": {},
   "outputs": [
    {
     "data": {
      "text/plain": [
       "<Axes: xlabel='Rating'>"
      ]
     },
     "execution_count": 16,
     "metadata": {},
     "output_type": "execute_result"
    },
    {
     "data": {
      "image/png": "[encoded data removed]",
      "text/plain": [
       "<Figure size 640x480 with 1 Axes>"
      ]
     },
     "metadata": {},
     "output_type": "display_data"
    }
   ],
   "source": [
    "books_df.groupby(\"Rating\").count()[\"Title\"].plot(kind=\"bar\")"
   ]
  },
  {
   "cell_type": "code",
   "execution_count": null,
   "id": "40200686",
   "metadata": {},
   "outputs": [],
   "source": []
  }
 ],
 "metadata": {
  "kernelspec": {
   "display_name": "Python 3 (ipykernel)",
   "language": "python",
   "name": "python3"
  },
  "language_info": {
   "codemirror_mode": {
    "name": "ipython",
    "version": 3
   },
   "file_extension": ".py",
   "mimetype": "text/x-python",
   "name": "python",
   "nbconvert_exporter": "python",
   "pygments_lexer": "ipython3",
   "version": "3.10.12"
  }
 },
 "nbformat": 4,
 "nbformat_minor": 5
}
